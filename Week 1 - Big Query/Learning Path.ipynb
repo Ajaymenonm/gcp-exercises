{
 "cells": [
  {
   "cell_type": "markdown",
   "metadata": {},
   "source": [
    "## AGENDA"
   ]
  },
  {
   "cell_type": "markdown",
   "metadata": {},
   "source": [
    "- BigQuery- Understand how to create Dataset/ table/ partition table using CLI (Cloud Shell/ SDK)\n",
    "\n",
    "- Load some Jason/ csv file into bigquery table using cli (use bq load command)\n",
    "\n",
    "- dataFusion/ cdap ---> install datafusion and cdap and different configuration required\n",
    "\n",
    "- By end of this week, we will create basic pipeline in cdap to load data into BigQuery table (with Data Quality check and simple transformation)\n",
    "\n"
   ]
  },
  {
   "cell_type": "markdown",
   "metadata": {},
   "source": [
    "1. ### BIG QUERY \n",
    "\n",
    "    - Starting with this Hands-On lab on Qwik Labs - \"Using BigQuery in the GCP Console\"\n",
    "    \n",
    "    **What did I learn?**\n",
    "        - Learnt to load a public dataset and run a query against it.\n",
    "        - Create a dataset. Load custom data through csv file. Create a table and run query against the data.\n",
    "    \n",
    "    **Resource**\n",
    "        - https://www.qwiklabs.com/focuses/3616?parent=catalog\n",
    "        \n"
   ]
  },
  {
   "cell_type": "code",
   "execution_count": null,
   "metadata": {},
   "outputs": [],
   "source": []
  }
 ],
 "metadata": {
  "kernelspec": {
   "display_name": "Python 3",
   "language": "python",
   "name": "python3"
  },
  "language_info": {
   "codemirror_mode": {
    "name": "ipython",
    "version": 3
   },
   "file_extension": ".py",
   "mimetype": "text/x-python",
   "name": "python",
   "nbconvert_exporter": "python",
   "pygments_lexer": "ipython3",
   "version": "3.7.3"
  }
 },
 "nbformat": 4,
 "nbformat_minor": 2
}
