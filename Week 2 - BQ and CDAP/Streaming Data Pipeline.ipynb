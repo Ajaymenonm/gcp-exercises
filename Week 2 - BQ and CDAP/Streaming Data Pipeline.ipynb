{
 "cells": [
  {
   "cell_type": "markdown",
   "metadata": {},
   "source": [
    "# Stream and Visualize Data"
   ]
  },
  {
   "cell_type": "markdown",
   "metadata": {},
   "source": [
    "***The goal is to load data to a big query table and visualize the same.***"
   ]
  },
  {
   "cell_type": "markdown",
   "metadata": {},
   "source": [
    "### Approach:\n",
    "    1. Wrote a cloud function which calls open source covid api.\n",
    "    2. Create a pub-sub topic to transport data from cloud function to cdap pipeline.\n",
    "    3. Create BigQuery dataset and table.\n",
    "    4. Create a CDAP pipeline which listens to the topic and receives data.\n",
    "    5. Format the data as required and load it to a bigquery table.\n",
    "    6. Query data visualize same using matplotlib library."
   ]
  },
  {
   "cell_type": "markdown",
   "metadata": {},
   "source": [
    "  "
   ]
  },
  {
   "cell_type": "markdown",
   "metadata": {},
   "source": [
    "### 1. Cloud Function"
   ]
  },
  {
   "cell_type": "markdown",
   "metadata": {},
   "source": [
    "This cloud function fetches data from open source COVID API and publishes it to a google cloud pub/sub topic."
   ]
  },
  {
   "cell_type": "code",
   "execution_count": null,
   "metadata": {},
   "outputs": [],
   "source": [
    "import requests\n",
    "import json\n",
    "from google.cloud import pubsub_v1\n",
    "\n",
    "project_id = 'q-data-analytics-practice-lab'\n",
    "topic_name = 'json_listener_topic'\n",
    "covid_api = 'https://corona.lmao.ninja/states'\n",
    "\n",
    "publisher = pubsub_v1.PublisherClient()\n",
    "topic_path = publisher.topic_path(project_id, topic_name)\n",
    "\n",
    "\n",
    "def publish_message(request):\n",
    "    try:\n",
    "        api_request = requests.get(covid_api)\n",
    "        data = api_request.json()\n",
    "\n",
    "        for n in data:\n",
    "            # Data must be a bytestring\n",
    "            data = json.dumps(n).encode(\"utf-8\")\n",
    "            # Publish data to topic\n",
    "            future = publisher.publish(topic_path, data)\n",
    "            print('Published message. ID {}'.format(future.result()))\n",
    "    except Exception as ex:\n",
    "        print('Error: {}'.format(ex))\n"
   ]
  },
  {
   "cell_type": "code",
   "execution_count": null,
   "metadata": {},
   "outputs": [],
   "source": [
    "publish_message('req')"
   ]
  },
  {
   "cell_type": "markdown",
   "metadata": {},
   "source": [
    "\n",
    "**Notes:**\n",
    "- This API is used to fetch covid data for all US states. \n",
    "`curl --location --request GET 'https://corona.lmao.ninja/all'`.  \n",
    "[API Source Here](https://documenter.getpostman.com/view/8854915/SzS7R6uu?version=latest)\n",
    "- Create a pub/sub topic on gcp and substitute the name accordingly in the script above"
   ]
  },
  {
   "cell_type": "markdown",
   "metadata": {},
   "source": [
    "**Resources:**\n",
    " - Setup gcloud and authentication: [Authentication](https://cloud.google.com/docs/authentication/getting-started#creating_a_service_account)\n",
    " - Cloud function: [CF](https://cloud.google.com/functions/docs/first-python)\n",
    " - Cloud function and pub/sub: [CF with Pub/Sub](https://cloud.google.com/functions/docs/calling/pubsub#publishing_a_message_from_within_a_function)\n",
    " - Function framework - for development and local testing: [Framework](https://pypi.org/project/functions-framework/) \n"
   ]
  },
  {
   "cell_type": "markdown",
   "metadata": {},
   "source": [
    " "
   ]
  },
  {
   "cell_type": "markdown",
   "metadata": {},
   "source": [
    "### 2. Pub/Sub "
   ]
  },
  {
   "cell_type": "markdown",
   "metadata": {},
   "source": [
    "Create a topic and subscription that is responsible for transporting data from cloud function to cdap pipeline"
   ]
  },
  {
   "cell_type": "markdown",
   "metadata": {},
   "source": [
    "1. Create a topic with name `json_listener_topic` with encryption `Google Managed`\n",
    "2. Create a subscription `json_listener_subscription`. Choose the topic you just created. Delivery type as `Pull`"
   ]
  },
  {
   "cell_type": "markdown",
   "metadata": {},
   "source": [
    " "
   ]
  },
  {
   "cell_type": "markdown",
   "metadata": {},
   "source": [
    "### 3. BigQuery Table"
   ]
  },
  {
   "cell_type": "code",
   "execution_count": 6,
   "metadata": {},
   "outputs": [
    {
     "data": {
      "text/html": [
       "<style>\n",
       "table {float:left}\n",
       "</style>\n"
      ],
      "text/plain": [
       "<IPython.core.display.HTML object>"
      ]
     },
     "metadata": {},
     "output_type": "display_data"
    }
   ],
   "source": [
    "%%html\n",
    "<style>\n",
    "table {float:left}\n",
    "</style>"
   ]
  },
  {
   "cell_type": "markdown",
   "metadata": {},
   "source": [
    "1. Create a dataset.\n",
    "2. Create a table inside this dataset.\n",
    "\n",
    "Schema is as follows:\n",
    "    \n",
    "| Field name | Type |\n",
    "| :-----------: | :-----------: |\n",
    "| state | STRING |\n",
    "| total_deaths | INTEGER |\n",
    "| total_cases | INTEGER |\n",
    "| active_cases | INTEGER |"
   ]
  },
  {
   "cell_type": "markdown",
   "metadata": {},
   "source": [
    " "
   ]
  },
  {
   "cell_type": "markdown",
   "metadata": {},
   "source": [
    "### 4. & 5. CDAP Pipeline"
   ]
  },
  {
   "cell_type": "markdown",
   "metadata": {},
   "source": [
    "This **streaming** pipeline is responsible for receiving data from pub/sub topic and then load it to a BigQuery Table"
   ]
  },
  {
   "attachments": {},
   "cell_type": "markdown",
   "metadata": {},
   "source": [
    "This is how the pipeline looks.![Screen%20Shot%202020-04-13%20at%2010.07.57%20AM.png](https://storage.googleapis.com/gcp-exercises-artifacts/bq-cdap/Screen%20Shot%202020-04-13%20at%2010.07.57%20AM.png)"
   ]
  },
  {
   "cell_type": "markdown",
   "metadata": {},
   "source": [
    "1. **Google Cloud PubSub node:** This node subscribes to the topic and receives data in realtime\n",
    "2. **Projection node:** This is responsible for converting encode data to a string. This can also add / drop fields. \n",
    "3. **Wrangler node:** This is where data is transformed according to various rules set. \n",
    "4. **BigQuery node:** Writes output data from wrangler to respective table."
   ]
  },
  {
   "cell_type": "markdown",
   "metadata": {},
   "source": [
    "Exported pipeline here: [stream-data-pipeline-exported](files/stream-data-pipeline-exported.json)"
   ]
  },
  {
   "cell_type": "markdown",
   "metadata": {},
   "source": [
    "**Resources:** \n",
    "- Wrangler Directives: [Documentation](https://github.com/data-integrations/wrangler#available-directives)"
   ]
  },
  {
   "cell_type": "markdown",
   "metadata": {},
   "source": [
    " "
   ]
  },
  {
   "cell_type": "markdown",
   "metadata": {},
   "source": [
    "### 6. Visualizing BigQuery Data"
   ]
  },
  {
   "cell_type": "markdown",
   "metadata": {},
   "source": [
    "Query BQ table; Load data; Visualize it."
   ]
  },
  {
   "cell_type": "markdown",
   "metadata": {},
   "source": [
    "- Load BigQuery python client library using jupyter notebook magic command. `%%bigquery` runs a SQL query and returns the results as a Pandas DataFrame.\n",
    "(limiting records to 10 for representation purpose)"
   ]
  },
  {
   "cell_type": "code",
   "execution_count": null,
   "metadata": {},
   "outputs": [],
   "source": [
    "%load_ext google.cloud.bigquery"
   ]
  },
  {
   "cell_type": "code",
   "execution_count": 12,
   "metadata": {},
   "outputs": [
    {
     "data": {
      "text/html": [
       "<div>\n",
       "<style scoped>\n",
       "    .dataframe tbody tr th:only-of-type {\n",
       "        vertical-align: middle;\n",
       "    }\n",
       "\n",
       "    .dataframe tbody tr th {\n",
       "        vertical-align: top;\n",
       "    }\n",
       "\n",
       "    .dataframe thead th {\n",
       "        text-align: right;\n",
       "    }\n",
       "</style>\n",
       "<table border=\"1\" class=\"dataframe\">\n",
       "  <thead>\n",
       "    <tr style=\"text-align: right;\">\n",
       "      <th></th>\n",
       "      <th>state</th>\n",
       "      <th>total_deaths</th>\n",
       "      <th>total_cases</th>\n",
       "      <th>active_cases</th>\n",
       "    </tr>\n",
       "  </thead>\n",
       "  <tbody>\n",
       "    <tr>\n",
       "      <th>0</th>\n",
       "      <td>Wyoming</td>\n",
       "      <td>0</td>\n",
       "      <td>270</td>\n",
       "      <td>133</td>\n",
       "    </tr>\n",
       "    <tr>\n",
       "      <th>1</th>\n",
       "      <td>Wuhan Repatriated</td>\n",
       "      <td>0</td>\n",
       "      <td>3</td>\n",
       "      <td>3</td>\n",
       "    </tr>\n",
       "    <tr>\n",
       "      <th>2</th>\n",
       "      <td>Diamond Princess Ship</td>\n",
       "      <td>0</td>\n",
       "      <td>46</td>\n",
       "      <td>46</td>\n",
       "    </tr>\n",
       "    <tr>\n",
       "      <th>3</th>\n",
       "      <td>United States Virgin Islands</td>\n",
       "      <td>1</td>\n",
       "      <td>51</td>\n",
       "      <td>7</td>\n",
       "    </tr>\n",
       "    <tr>\n",
       "      <th>4</th>\n",
       "      <td>Northern Mariana Islands</td>\n",
       "      <td>2</td>\n",
       "      <td>11</td>\n",
       "      <td>9</td>\n",
       "    </tr>\n",
       "    <tr>\n",
       "      <th>5</th>\n",
       "      <td>Grand Princess Ship</td>\n",
       "      <td>3</td>\n",
       "      <td>103</td>\n",
       "      <td>100</td>\n",
       "    </tr>\n",
       "    <tr>\n",
       "      <th>6</th>\n",
       "      <td>Guam</td>\n",
       "      <td>5</td>\n",
       "      <td>133</td>\n",
       "      <td>70</td>\n",
       "    </tr>\n",
       "    <tr>\n",
       "      <th>7</th>\n",
       "      <td>South Dakota</td>\n",
       "      <td>6</td>\n",
       "      <td>730</td>\n",
       "      <td>528</td>\n",
       "    </tr>\n",
       "    <tr>\n",
       "      <th>8</th>\n",
       "      <td>Montana</td>\n",
       "      <td>6</td>\n",
       "      <td>387</td>\n",
       "      <td>212</td>\n",
       "    </tr>\n",
       "    <tr>\n",
       "      <th>9</th>\n",
       "      <td>West Virginia</td>\n",
       "      <td>8</td>\n",
       "      <td>611</td>\n",
       "      <td>520</td>\n",
       "    </tr>\n",
       "  </tbody>\n",
       "</table>\n",
       "</div>"
      ],
      "text/plain": [
       "                          state  total_deaths  total_cases  active_cases\n",
       "0                       Wyoming             0          270           133\n",
       "1             Wuhan Repatriated             0            3             3\n",
       "2         Diamond Princess Ship             0           46            46\n",
       "3  United States Virgin Islands             1           51             7\n",
       "4      Northern Mariana Islands             2           11             9\n",
       "5           Grand Princess Ship             3          103           100\n",
       "6                          Guam             5          133            70\n",
       "7                  South Dakota             6          730           528\n",
       "8                       Montana             6          387           212\n",
       "9                 West Virginia             8          611           520"
      ]
     },
     "execution_count": 12,
     "metadata": {},
     "output_type": "execute_result"
    }
   ],
   "source": [
    "%%bigquery\n",
    "SELECT\n",
    "    *\n",
    "FROM `q-data-analytics-practice-lab.ajaydataset.pub_sub_table`\n",
    "LIMIT 10"
   ]
  },
  {
   "cell_type": "markdown",
   "metadata": {},
   "source": [
    " "
   ]
  },
  {
   "cell_type": "markdown",
   "metadata": {},
   "source": [
    "- Visualize number of deaths per US state using matplotlib"
   ]
  },
  {
   "cell_type": "code",
   "execution_count": 21,
   "metadata": {},
   "outputs": [],
   "source": [
    "%%bigquery covid_results\n",
    "SELECT\n",
    "    total_deaths AS deaths,\n",
    "    state \n",
    "FROM `q-data-analytics-practice-lab.ajaydataset.pub_sub_table`"
   ]
  },
  {
   "cell_type": "code",
   "execution_count": 22,
   "metadata": {},
   "outputs": [],
   "source": [
    "%matplotlib inline"
   ]
  },
  {
   "cell_type": "code",
   "execution_count": 50,
   "metadata": {},
   "outputs": [
    {
     "data": {
      "image/png": "[encoded data removed]",
      "text/plain": [
       "<Figure size 1440x432 with 1 Axes>"
      ]
     },
     "metadata": {
      "needs_background": "light"
     },
     "output_type": "display_data"
    }
   ],
   "source": [
    "covid_results.plot(kind='bar', x='state', y='deaths', figsize=(20, 6));"
   ]
  },
  {
   "cell_type": "markdown",
   "metadata": {},
   "source": [
    " "
   ]
  }
 ],
 "metadata": {
  "kernelspec": {
   "display_name": "Python 3",
   "language": "python",
   "name": "python3"
  },
  "language_info": {
   "codemirror_mode": {
    "name": "ipython",
    "version": 3
   },
   "file_extension": ".py",
   "mimetype": "text/x-python",
   "name": "python",
   "nbconvert_exporter": "python",
   "pygments_lexer": "ipython3",
   "version": "3.7.3"
  }
 },
 "nbformat": 4,
 "nbformat_minor": 2
}
